{
 "cells": [
  {
   "cell_type": "code",
   "execution_count": 2,
   "metadata": {},
   "outputs": [
    {
     "name": "stdout",
     "output_type": "stream",
     "text": [
      "y =    0.98606x +    9.30667\n"
     ]
    },
    {
     "data": {
      "image/png": "[encoded data removed]",
      "text/plain": [
       "<Figure size 432x288 with 1 Axes>"
      ]
     },
     "metadata": {
      "needs_background": "light"
     },
     "output_type": "display_data"
    }
   ],
   "source": [
    "import numpy as np\n",
    "import matplotlib.pyplot as plt\n",
    "\n",
    "def calcAB(x,y):\n",
    "    n = len(x)\n",
    "    sumX,sumY,sumXY,sumXX =0,0,0,0\n",
    "    for i in range(0,n):\n",
    "        sumX  += x[i]\n",
    "        sumY  += y[i]\n",
    "        sumXX += x[i]*x[i]\n",
    "        sumXY += x[i]*y[i]\n",
    "    a = (n*sumXY -sumX*sumY)/(n*sumXX -sumX*sumX)\n",
    "    b = (sumXX*sumY - sumX*sumXY)/(n*sumXX-sumX*sumX)\n",
    "    return a,b,\n",
    "\n",
    "xi = [1,2,3,4,5,6,7,8,9,10]\n",
    "yi = [10,11.5,12,13,14.5,15.5,16.8,17.3,18,18.7]\n",
    "a,b=calcAB(xi,yi)\n",
    "print(\"y = %10.5fx + %10.5f\" %(a,b))\n",
    "x = np.linspace(0,10)\n",
    "y = a * x + b\n",
    "plt.plot(x,y)\n",
    "plt.scatter(xi,yi)\n",
    "plt.show()"
   ]
  },
  {
   "cell_type": "code",
   "execution_count": null,
   "metadata": {},
   "outputs": [],
   "source": []
  }
 ],
 "metadata": {
  "anaconda-cloud": {},
  "kernelspec": {
   "display_name": "Python 3",
   "language": "python",
   "name": "python3"
  },
  "language_info": {
   "codemirror_mode": {
    "name": "ipython",
    "version": 3
   },
   "file_extension": ".py",
   "mimetype": "text/x-python",
   "name": "python",
   "nbconvert_exporter": "python",
   "pygments_lexer": "ipython3",
   "version": "3.6.8"
  }
 },
 "nbformat": 4,
 "nbformat_minor": 1
}
